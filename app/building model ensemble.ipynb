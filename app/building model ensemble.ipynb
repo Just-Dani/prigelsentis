{
 "cells": [
  {
   "cell_type": "code",
   "execution_count": 1,
   "metadata": {},
   "outputs": [
    {
     "name": "stdout",
     "output_type": "stream",
     "text": [
      "Requirement already satisfied: Sastrawi in c:\\users\\ahmad dani\\appdata\\local\\programs\\python\\python310\\lib\\site-packages (1.0.1)\n",
      "Note: you may need to restart the kernel to use updated packages.\n"
     ]
    }
   ],
   "source": [
    "%pip install Sastrawi"
   ]
  },
  {
   "cell_type": "code",
   "execution_count": 2,
   "metadata": {},
   "outputs": [
    {
     "name": "stdout",
     "output_type": "stream",
     "text": [
      "Requirement already satisfied: scikit-learn in c:\\users\\ahmad dani\\appdata\\local\\programs\\python\\python310\\lib\\site-packages (1.6.1)\n",
      "Requirement already satisfied: numpy>=1.19.5 in c:\\users\\ahmad dani\\appdata\\local\\programs\\python\\python310\\lib\\site-packages (from scikit-learn) (1.26.3)\n",
      "Requirement already satisfied: scipy>=1.6.0 in c:\\users\\ahmad dani\\appdata\\local\\programs\\python\\python310\\lib\\site-packages (from scikit-learn) (1.11.4)\n",
      "Requirement already satisfied: joblib>=1.2.0 in c:\\users\\ahmad dani\\appdata\\local\\programs\\python\\python310\\lib\\site-packages (from scikit-learn) (1.3.2)\n",
      "Requirement already satisfied: threadpoolctl>=3.1.0 in c:\\users\\ahmad dani\\appdata\\local\\programs\\python\\python310\\lib\\site-packages (from scikit-learn) (3.2.0)\n",
      "Note: you may need to restart the kernel to use updated packages.\n"
     ]
    }
   ],
   "source": [
    "%pip install scikit-learn"
   ]
  },
  {
   "cell_type": "code",
   "execution_count": null,
   "metadata": {},
   "outputs": [],
   "source": [
    "import re\n",
    "import string\n",
    "import pandas as pd\n",
    "import nltk\n",
    "from nltk.corpus import stopwords\n",
    "from nltk.tokenize import word_tokenize\n",
    "from Sastrawi.Stemmer.StemmerFactory import StemmerFactory\n",
    "from string import punctuation\n",
    "from sklearn.feature_extraction.text import TfidfVectorizer\n",
    "from sklearn.svm import SVC\n",
    "from sklearn.model_selection import train_test_split\n",
    "from sklearn.metrics import accuracy_score, classification_report\n",
    "import pickle\n",
    "from joblib import dump\n",
    "from nltk.sentiment.vader import SentimentIntensityAnalyzer\n",
    "nltk.download('stopwords')"
   ]
  },
  {
   "cell_type": "code",
   "execution_count": null,
   "metadata": {},
   "outputs": [],
   "source": [
    "data = pd.read_csv('data/dataset-september.csv', delimiter=';')\n",
    "df_stopwords = pd.read_csv('data/stopwords-id.csv', header=None, names=['stopword'])\n",
    "df_slang = pd.read_csv('data/kamus-singkatan.csv', delimiter=';', names=['singkatan', 'kata'])\n",
    "df_lexicon = pd.read_csv('data/lexicon-inset.csv')\n",
    "lexicon_dict = dict(zip(df_lexicon['word'], df_lexicon['weight']))\n",
    "df_corpus = pd.read_csv('data/corpus.csv')\n",
    "corpus_words = df_corpus['kata'].tolist()\n",
    "\n",
    "stemmer = StemmerFactory().create_stemmer()"
   ]
  },
  {
   "cell_type": "code",
   "execution_count": null,
   "metadata": {},
   "outputs": [],
   "source": [
    "def cleaning(full_text): \n",
    "    full_text = full_text.replace('-ness', ' ')\n",
    "    full_text = full_text.replace('-jualness', ' ')\n",
    "    full_text = re.sub(r'@\\S+', ' ', full_text)\n",
    "    full_text = re.sub(r'^RT[\\s]+', ' ', full_text)\n",
    "    full_text = re.sub(r'[^a-zA-Z]', ' ', full_text)\n",
    "    full_text = re.sub(r'/n', ' ', full_text)\n",
    "    full_text = re.sub(r'http\\S+', ' ', full_text)\n",
    "    full_text = re.sub(r'https\\S+', ' ', full_text)\n",
    "    full_text = re.sub(r'www\\S+', ' ', full_text)\n",
    "    full_text = re.sub(r'\\d+', ' ', full_text)\n",
    "    full_text = re.sub(r'(?<!\\bunnes)(\\w)(\\1+)(?=\\s|[\\.,!])', ' ', full_text)\n",
    "    full_text = full_text.strip(' ')\n",
    "    full_text = full_text.lower()\n",
    "    \n",
    "    tokens = nltk.word_tokenize(full_text)\n",
    "    \n",
    "    punc = list(punctuation)\n",
    "    words = [w for w in tokens if w not in punc]\n",
    "    stop_words = set(stopwords.words('indonesian'))\n",
    "    words = [w.lower() for w in words if not w.lower() in stop_words]\n",
    "\n",
    "    # lemmatization\n",
    "    factory = StemmerFactory()\n",
    "    stemmer = factory.create_stemmer()\n",
    "    stemming_tokens = [stemmer.stem(token) for token in words]\n",
    "\n",
    "    text = ' '.join(stemming_tokens)\n",
    "    \n",
    "    return text"
   ]
  },
  {
   "cell_type": "code",
   "execution_count": null,
   "metadata": {},
   "outputs": [],
   "source": [
    "def replace_word(text):\n",
    "    elongated_words = re.findall(r'\\b\\w*(?:(\\w)\\1{2,})\\w*\\b', text)\n",
    "    for word in elongated_words:\n",
    "        replacement = word[0]\n",
    "        text = re.sub(r'\\b' + re.escape(word) + r'\\b', replacement, text)\n",
    "    return text"
   ]
  },
  {
   "cell_type": "code",
   "execution_count": null,
   "metadata": {},
   "outputs": [],
   "source": [
    "def translate_slang(text_list):\n",
    "    translated_list = []\n",
    "    for text in text_list:\n",
    "        words = text.split()\n",
    "        translated_words = []\n",
    "        for word in words:\n",
    "            if word in df_slang['singkatan'].tolist():\n",
    "                translated_words.append(df_slang[df_slang['singkatan'] == word]['kata'].values[0])\n",
    "            else:\n",
    "                translated_words.append(word)\n",
    "        translated_list.append(' '.join(translated_words))\n",
    "    return translated_list"
   ]
  },
  {
   "cell_type": "code",
   "execution_count": null,
   "metadata": {},
   "outputs": [],
   "source": [
    "def remove_stopwords(tokens):\n",
    "    if isinstance(tokens, list):\n",
    "        filtered_words = [word for word in tokens if word.lower() not in df_stopwords['stopword'].values]\n",
    "        return filtered_words\n",
    "    else:\n",
    "        return tokens\n",
    "    \n",
    "def stemming(tokens):\n",
    "    factory = StemmerFactory()\n",
    "    stemmer = factory.create_stemmer()\n",
    "    stemming_tokens = [stemmer.stem(token) for token in tokens]\n",
    "    stemming_words = ' '.join(stemming_tokens)\n",
    "    return stemming_words"
   ]
  },
  {
   "cell_type": "code",
   "execution_count": null,
   "metadata": {},
   "outputs": [],
   "source": [
    "def labelling(text):\n",
    "  tokens = text.split()\n",
    "  score = 0\n",
    "  \n",
    "  for token in tokens:\n",
    "    if token in lexicon_dict:\n",
    "      score += lexicon_dict[token]\n",
    "\n",
    "  polarity = ''\n",
    "  if score > 0:\n",
    "    polarity = 'Positif'\n",
    "  elif score < 0:\n",
    "    polarity = 'Negatif'\n",
    "  else:\n",
    "    polarity = 'Netral'\n",
    "  \n",
    "  return polarity"
   ]
  },
  {
   "cell_type": "code",
   "execution_count": null,
   "metadata": {},
   "outputs": [],
   "source": [
    "def tokenize(text):\n",
    "    text = word_tokenize(text)\n",
    "    return text"
   ]
  },
  {
   "cell_type": "code",
   "execution_count": null,
   "metadata": {},
   "outputs": [],
   "source": [
    "# def proses(data):\n",
    "#     data['clean_text'] = data['full_text'].apply(cleaning)\n",
    "#     data['clean_text'] = data['clean_text'].apply(replace_word)\n",
    "#     data['clean_text'] = data['clean_text'].apply(tokenize)\n",
    "#     data['clean_text'] = data['clean_text'].apply(translate_slang)\n",
    "#     data['clean_text'] = data['clean_text'].apply(remove_stopwords)\n",
    "#     data['clean_text'] = data['clean_text'].apply(stemming)\n",
    "#     data['sentimen'] = data['clean_text'].apply(labelling)\n",
    "#     return data\n"
   ]
  },
  {
   "cell_type": "code",
   "execution_count": null,
   "metadata": {},
   "outputs": [],
   "source": [
    "data['clean_text'] = data['full_text'].apply(cleaning)\n",
    "data"
   ]
  },
  {
   "cell_type": "code",
   "execution_count": null,
   "metadata": {},
   "outputs": [],
   "source": [
    "data['clean_text'] = data['clean_text'].apply(replace_word)\n",
    "data"
   ]
  },
  {
   "cell_type": "code",
   "execution_count": null,
   "metadata": {},
   "outputs": [],
   "source": [
    "data['clean_text'] = data['clean_text'].apply(tokenize)\n",
    "data"
   ]
  },
  {
   "cell_type": "code",
   "execution_count": null,
   "metadata": {},
   "outputs": [],
   "source": [
    "data['clean_text'] = data['clean_text'].apply(translate_slang)\n",
    "data"
   ]
  },
  {
   "cell_type": "code",
   "execution_count": null,
   "metadata": {},
   "outputs": [],
   "source": [
    "data['clean_text'] = data['clean_text'].apply(remove_stopwords)\n",
    "data"
   ]
  },
  {
   "cell_type": "code",
   "execution_count": null,
   "metadata": {},
   "outputs": [],
   "source": [
    "data['clean_text'] = data['clean_text'].apply(stemming)\n",
    "data"
   ]
  },
  {
   "cell_type": "code",
   "execution_count": null,
   "metadata": {},
   "outputs": [],
   "source": [
    "data = pd.read_excel(r'D:\\10.media_social_analysis-main\\After_Processed_Dataset_PASAL (2).xlsx')\n",
    "data"
   ]
  },
  {
   "cell_type": "code",
   "execution_count": null,
   "metadata": {},
   "outputs": [],
   "source": [
    "data['sentimen'] = data['full_text'].apply(labelling)\n",
    "data"
   ]
  },
  {
   "cell_type": "code",
   "execution_count": null,
   "metadata": {},
   "outputs": [],
   "source": [
    "# if __name__ == '__main__':\n",
    "#     proses(data)"
   ]
  },
  {
   "cell_type": "code",
   "execution_count": null,
   "metadata": {},
   "outputs": [],
   "source": [
    "data = pd.read_excel(r'C:\\Users\\Ahmad Dani\\codingz\\SENTIS\\app\\hasil_sentimen.xlsx')\n",
    "data"
   ]
  },
  {
   "cell_type": "code",
   "execution_count": null,
   "metadata": {},
   "outputs": [],
   "source": [
    "data = pd.read_excel(r'C:\\Users\\Ahmad Dani\\codingz\\SENTIS\\app\\hasil_sentimen.xlsx')\n",
    "data"
   ]
  },
  {
   "cell_type": "code",
   "execution_count": null,
   "metadata": {},
   "outputs": [],
   "source": [
    "data = pd.read_excel(r'C:\\Users\\Ahmad Dani\\codingz\\SENTIS\\app\\hasil_sentimen.xlsx')"
   ]
  },
  {
   "cell_type": "code",
   "execution_count": null,
   "metadata": {},
   "outputs": [],
   "source": [
    "data.dropna(subset=['clean_text', 'sentimen'], inplace=True)"
   ]
  },
  {
   "cell_type": "code",
   "execution_count": null,
   "metadata": {},
   "outputs": [],
   "source": [
    "from sklearn.metrics import classification_report\n",
    "from sklearn.linear_model import LogisticRegression\n",
    "from sklearn.ensemble import RandomForestClassifier\n",
    "from sklearn.tree import DecisionTreeClassifier\n",
    "from sklearn.ensemble import StackingClassifier\n",
    "\n",
    "# Memisahkan fitur (X) dan label (y) dari dataset\n",
    "X = data['clean_text']\n",
    "y = data['sentimen']\n",
    "\n",
    "# Penggunaan TF-IDF untuk vektorisasi teks\n",
    "vectorizer = TfidfVectorizer()\n",
    "X_train_tfidf = vectorizer.fit_transform(X)\n",
    "X_test_tfidf = vectorizer.transform(X)  # Transformasi data uji"
   ]
  },
  {
   "cell_type": "code",
   "execution_count": null,
   "metadata": {},
   "outputs": [],
   "source": [
    "from imblearn.over_sampling import SMOTE\n",
    "# Ganti Random Over Sampling dengan SMOTE\n",
    "smote = SMOTE()\n",
    "X_resampled, y_resampled = smote.fit_resample(X_train_tfidf, y)\n",
    "\n",
    "# Buat DataFrame baru\n",
    "os = pd.DataFrame(list(zip([x[0] for x in X_resampled], y_resampled)), columns=['full_text', 'Label'])\n",
    "\n",
    "# Tampilkan distribusi kelas setelah penerapan SMOTE\n",
    "os['Label'].value_counts()"
   ]
  },
  {
   "cell_type": "code",
   "execution_count": null,
   "metadata": {},
   "outputs": [],
   "source": [
    "# Pembagian data menjadi data latih dan data uji\n",
    "X_train, X_test, y_train, y_test = train_test_split(X_resampled, y_resampled, stratify=y_resampled, test_size=0.1, random_state=42)"
   ]
  },
  {
   "cell_type": "code",
   "execution_count": null,
   "metadata": {},
   "outputs": [],
   "source": [
    "# # Inisialisasi dan pelatihan model SVM dengan kernel radial basis function (RBF)\n",
    "# svm_model = SVC(kernel='rbf', C=100.0, gamma=0.03)\n",
    "# svm_model.fit(X_train_tfidf, y_train)\n",
    "estimators = [\n",
    "    ('lr', LogisticRegression()),        # Estimator 1: Logistic Regression\n",
    "    ('rf', RandomForestClassifier()),    # Estimator 2: Random Forest Classifier\n",
    "    ('dt', DecisionTreeClassifier()),    # Estimator 3: Decision Tree Classifier\n",
    "    ('svm', SVC(kernel='rbf', C=1.0, gamma=0.01))    # Estimator 5: SVM Classifier\n",
    "]\n",
    "\n",
    "# Definisikan StackingClassifier dengan meta-estimator LogisticRegression\n",
    "svm_model = StackingClassifier(\n",
    "    estimators=estimators,               # Daftar estimator yang akan digunakan\n",
    "    final_estimator=RandomForestClassifier()# Estimator meta untuk menggabungkan hasil estimator lainnya\n",
    ")\n",
    "\n",
    "svm_model.fit(X_train, y_train)\n",
    "\n",
    "# Evaluasi akurasi model pada data uji\n",
    "y_pred = svm_model.predict(X_test)\n",
    "accuracy = accuracy_score(y_test, y_pred)\n",
    "print(\"Accuracy:\", accuracy)\n",
    "\n",
    "# Evaluasi model dengan classification report\n",
    "print(\"Classification Report:\")\n",
    "print(classification_report(y_test, y_pred))\n",
    "\n",
    "# Simpan model dan objek vectorizer untuk penggunaan selanjutnya\n",
    "dump(vectorizer, 'models/vectorizer1.pkl')\n",
    "dump(svm_model, 'models/ensemble_model4.pkl')\n"
   ]
  },
  {
   "cell_type": "code",
   "execution_count": null,
   "metadata": {},
   "outputs": [],
   "source": [
    "from sklearn.metrics import accuracy_score, classification_report, confusion_matrix\n",
    "import seaborn as sns\n",
    "import matplotlib.pyplot as plt\n",
    "\n",
    "# Membuat confusion matrix\n",
    "conf_matrix = confusion_matrix(y_test, y_pred)\n",
    "print(\"Confusion Matrix:\")\n",
    "print(conf_matrix)\n",
    "\n",
    "# Plot confusion matrix dengan label 'Negatif', 'Netral', 'Positif'\n",
    "labels = ['Negatif', 'Netral', 'Positif']\n",
    "plt.figure(figsize=(10, 7))\n",
    "sns.heatmap(conf_matrix, annot=True, fmt='d', cmap='Blues', xticklabels=labels, yticklabels=labels)\n",
    "plt.xlabel('Predicted Label')\n",
    "plt.ylabel('True Label')\n",
    "plt.title('Confusion Matrix')\n",
    "plt.show()"
   ]
  },
  {
   "cell_type": "code",
   "execution_count": null,
   "metadata": {},
   "outputs": [],
   "source": [
    "%pip install flask"
   ]
  }
 ],
 "metadata": {
  "kernelspec": {
   "display_name": "Python 3",
   "language": "python",
   "name": "python3"
  },
  "language_info": {
   "codemirror_mode": {
    "name": "ipython",
    "version": 3
   },
   "file_extension": ".py",
   "mimetype": "text/x-python",
   "name": "python",
   "nbconvert_exporter": "python",
   "pygments_lexer": "ipython3",
   "version": "3.10.0"
  }
 },
 "nbformat": 4,
 "nbformat_minor": 2
}
