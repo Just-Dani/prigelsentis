{
 "cells": [
  {
   "cell_type": "code",
   "execution_count": 1,
   "id": "7f1f8b1e",
   "metadata": {},
   "outputs": [],
   "source": [
    "from selenium import webdriver\n",
    "from selenium.webdriver.common.by import By\n",
    "from selenium.webdriver.common.action_chains import ActionChains\n",
    "from selenium.webdriver.support.ui import WebDriverWait\n",
    "from selenium.webdriver.support import expected_conditions as EC\n",
    "from bs4 import BeautifulSoup\n",
    "import time\n",
    "import random\n",
    "import pymongo\n",
    "import json"
   ]
  },
  {
   "cell_type": "code",
   "execution_count": 2,
   "id": "02efe32f",
   "metadata": {},
   "outputs": [],
   "source": [
    "driver = None\n",
    "username = \"johnwick67319@gmail.com\"\n",
    "password = \"herofavorit123\""
   ]
  },
  {
   "cell_type": "code",
   "execution_count": 3,
   "id": "1ccc92dc",
   "metadata": {},
   "outputs": [],
   "source": [
    "def initialize_driver(driver):\n",
    "    options = webdriver.EdgeOptions()\n",
    "    options.add_argument(\"--disable-blink-features=AutomationControlled\")\n",
    "    options.add_experimental_option(\"excludeSwitches\", [\"enable-automation\"])\n",
    "    options.add_experimental_option(\"useAutomationExtension\", False)\n",
    "\n",
    "    driver = webdriver.Edge(options=options)\n",
    "    driver.execute_script(\"Object.defineProperty(navigator, 'webdriver', {get: () => undefined})\")\n",
    "    return driver\n",
    "\n",
    "def simulate_human_typing(element, text):\n",
    "    for char in text:\n",
    "        element.send_keys(char)\n",
    "        time.sleep(random.uniform(0.1, 0.3))\n",
    "        if random.random() < 0.1:\n",
    "            time.sleep(random.uniform(0.3, 0.7))\n",
    "\n",
    "def login(driver, email, password):\n",
    "    driver.get(\"https://www.facebook.com/login\")\n",
    "\n",
    "    email_input = WebDriverWait(driver, 10).until(\n",
    "        EC.presence_of_element_located((By.NAME, \"email\"))\n",
    "    )\n",
    "    simulate_human_typing(email_input, email)\n",
    "\n",
    "    password_input = WebDriverWait(driver, 10).until(\n",
    "        EC.presence_of_element_located((By.NAME, \"pass\"))\n",
    "    )\n",
    "    simulate_human_typing(password_input, password)\n",
    "\n",
    "    login_button = driver.find_element(By.XPATH, \"//button[@type='submit']\")\n",
    "    ActionChains(driver)\\\n",
    "        .move_to_element(login_button)\\\n",
    "        .pause(random.uniform(0.2, 0.4))\\\n",
    "        .click()\\\n",
    "        .perform()\n",
    "\n",
    "    time.sleep(15)\n",
    "\n",
    "def navigate_to_profile(driver, target):\n",
    "    driver.get(target)\n",
    "    time.sleep(4)"
   ]
  },
  {
   "cell_type": "code",
   "execution_count": 6,
   "id": "b25fb7fa",
   "metadata": {},
   "outputs": [],
   "source": [
    "driver = initialize_driver(driver)\n",
    "login(driver, username, password)\n",
    "\n",
    "target = \"https://www.facebook.com/unnesshitpost/posts/pfbid0HVMUoaWxkmmLrVsgqJgBLCL7hmbV1Zr1QFP92sA87QDYWuQaLFt87GMpqFJdprvml\"\n",
    "\n",
    "navigate_to_profile(driver, target)\n",
    "\n",
    "time.sleep(5)  # wait for full page to load\n",
    "\n",
    "scrollable_div = driver.find_element(By.XPATH, \"//div[contains(@class, 'x14nfmen') and contains(@style, 'height')]\")\n",
    "\n",
    "# Scroll down using scrollBy\n",
    "for _ in range(10):\n",
    "    driver.execute_script(\"window.scrollBy(0, 500);\")\n",
    "    time.sleep(1)"
   ]
  }
 ],
 "metadata": {
  "kernelspec": {
   "display_name": "Python 3",
   "language": "python",
   "name": "python3"
  },
  "language_info": {
   "codemirror_mode": {
    "name": "ipython",
    "version": 3
   },
   "file_extension": ".py",
   "mimetype": "text/x-python",
   "name": "python",
   "nbconvert_exporter": "python",
   "pygments_lexer": "ipython3",
   "version": "3.10.0"
  }
 },
 "nbformat": 4,
 "nbformat_minor": 5
}
