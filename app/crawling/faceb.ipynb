{
 "cells": [
  {
   "cell_type": "code",
   "execution_count": 1,
   "id": "dbb9774c",
   "metadata": {},
   "outputs": [],
   "source": [
    "import os\n",
    "import csv\n",
    "import time\n",
    "import random\n",
    "from pymongo import MongoClient\n",
    "from selenium import webdriver\n",
    "from selenium.webdriver.common.keys import Keys\n",
    "from selenium.webdriver.support import expected_conditions as EC\n",
    "from selenium.webdriver.common.by import By\n",
    "from selenium.webdriver.support.wait import WebDriverWait\n",
    "from webdriver_manager.chrome import ChromeDriverManager\n",
    "from selenium.webdriver.chrome.service import Service as ChromeService\n",
    "from selenium.webdriver.chrome.options import Options\n",
    "from selenium.common.exceptions import StaleElementReferenceException\n",
    "import schedule\n",
    "from datetime import datetime\n",
    "from selenium.webdriver.common.action_chains import ActionChains"
   ]
  },
  {
   "cell_type": "code",
   "execution_count": 2,
   "id": "d2ed3ea5",
   "metadata": {},
   "outputs": [],
   "source": [
    "email = \"johnwick67319@gmail.com\"\n",
    "password = \"herofavorit123\"\n",
    "target = \"https://www.facebook.com/unnesshitpost\""
   ]
  },
  {
   "cell_type": "code",
   "execution_count": 3,
   "id": "2c2ee473",
   "metadata": {},
   "outputs": [],
   "source": [
    "def human_like_typing(element, text):\n",
    "    for character in text:\n",
    "        element.send_keys(character)\n",
    "        time.sleep(random.uniform(0.1, 0.6))"
   ]
  },
  {
   "cell_type": "code",
   "execution_count": 4,
   "id": "8849093c",
   "metadata": {},
   "outputs": [],
   "source": [
    "def openselenium():\n",
    "    driver = Options()\n",
    "    driver.add_argument(\"--ignore-certificate-errors\")\n",
    "    driver.add_argument(\"user-agent=Mozilla/5.0 (Windows NT 10.0; Win64; x64) AppleWebKit/537.36 (KHTML, like Gecko) Chrome/110.0.0.0 Safari/537.36\")\n",
    "    driver.add_experimental_option(\"detach\", True)\n",
    "    driver.add_argument(\"--start-maximized\")\n",
    "    driver = webdriver.Chrome(service=ChromeService(ChromeDriverManager().install()), options=driver)\n",
    "    driver.get(\"https://www.facebook.com/\")\n",
    "    return driver"
   ]
  },
  {
   "cell_type": "code",
   "execution_count": 5,
   "id": "a1b08d3b",
   "metadata": {},
   "outputs": [],
   "source": [
    "def login(driver, email, password):\n",
    "    try:\n",
    "        accept_cookies = WebDriverWait(driver, 10).until(\n",
    "            EC.element_to_be_clickable((By.XPATH, \"//button[contains(text(), 'Allow all cookies')]\"))\n",
    "        )\n",
    "        accept_cookies.click()\n",
    "    except Exception as e:\n",
    "        print(\"No cookies prompt found.\")\n",
    "\n",
    "    email_field = WebDriverWait(driver, 10).until(EC.presence_of_element_located((By.ID, \"email\")))\n",
    "    pass_field = WebDriverWait(driver, 10).until(EC.presence_of_element_located((By.ID, \"pass\")))\n",
    "\n",
    "    email_field.clear()\n",
    "    pass_field.clear()\n",
    "    human_like_typing(email_field, email)\n",
    "    human_like_typing(pass_field, password)\n",
    "\n",
    "    login_button = WebDriverWait(driver, 10).until(EC.element_to_be_clickable((By.NAME, \"login\")))\n",
    "\n",
    "    login_button.click()"
   ]
  },
  {
   "cell_type": "code",
   "execution_count": 6,
   "id": "9f8ac340",
   "metadata": {},
   "outputs": [],
   "source": [
    "def search(driver, page_name):\n",
    "    driver.get(page_name)\n",
    "    time.sleep(4)"
   ]
  },
  {
   "cell_type": "code",
   "execution_count": 7,
   "id": "728c18c4",
   "metadata": {},
   "outputs": [],
   "source": [
    "def main():\n",
    "    driver = openselenium()\n",
    "    login(driver, email, password)\n",
    "    search(driver, target)"
   ]
  },
  {
   "cell_type": "code",
   "execution_count": 8,
   "id": "f79f4599",
   "metadata": {},
   "outputs": [
    {
     "name": "stdout",
     "output_type": "stream",
     "text": [
      "No cookies prompt found.\n"
     ]
    }
   ],
   "source": [
    "if __name__ == \"__main__\":\n",
    "    main()"
   ]
  },
  {
   "cell_type": "code",
   "execution_count": 9,
   "id": "e6fe1c45",
   "metadata": {},
   "outputs": [],
   "source": [
    "driver = openselenium()\n",
    "driver.get(target)"
   ]
  }
 ],
 "metadata": {
  "kernelspec": {
   "display_name": "Python 3",
   "language": "python",
   "name": "python3"
  },
  "language_info": {
   "codemirror_mode": {
    "name": "ipython",
    "version": 3
   },
   "file_extension": ".py",
   "mimetype": "text/x-python",
   "name": "python",
   "nbconvert_exporter": "python",
   "pygments_lexer": "ipython3",
   "version": "3.10.0"
  }
 },
 "nbformat": 4,
 "nbformat_minor": 5
}
