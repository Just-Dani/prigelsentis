{
 "cells": [
  {
   "cell_type": "code",
   "execution_count": 1,
   "metadata": {},
   "outputs": [],
   "source": [
    "from selenium import webdriver\n",
    "from selenium.webdriver.common.by import By\n",
    "from selenium.webdriver.common.action_chains import ActionChains\n",
    "from selenium.webdriver.support.ui import WebDriverWait\n",
    "from selenium.webdriver.support import expected_conditions as EC\n",
    "from bs4 import BeautifulSoup\n",
    "import time\n",
    "import random\n",
    "import json"
   ]
  },
  {
   "cell_type": "code",
   "execution_count": 2,
   "metadata": {},
   "outputs": [],
   "source": [
    "email = \"johnwick67319@gmail.com\"\n",
    "password = \"herofavorit123\"\n",
    "driver = None\n",
    "target = \"https://www.facebook.com/unnesshitpost\""
   ]
  },
  {
   "cell_type": "code",
   "execution_count": 3,
   "metadata": {},
   "outputs": [],
   "source": [
    "def initialize_driver(driver):\n",
    "    options = webdriver.EdgeOptions()\n",
    "    options.add_argument(\"--disable-blink-features=AutomationControlled\")\n",
    "    options.add_experimental_option(\"excludeSwitches\", [\"enable-automation\"])\n",
    "    options.add_experimental_option(\"useAutomationExtension\", False)\n",
    "\n",
    "    driver = webdriver.Edge(options=options)\n",
    "    driver.execute_script(\"Object.defineProperty(navigator, 'webdriver', {get: () => undefined})\")\n",
    "    return driver"
   ]
  },
  {
   "cell_type": "code",
   "execution_count": 4,
   "metadata": {},
   "outputs": [],
   "source": [
    "def simulate_human_typing(element, text):\n",
    "    for char in text:\n",
    "        element.send_keys(char)\n",
    "        time.sleep(random.uniform(0.1, 0.3))\n",
    "        if random.random() < 0.1:\n",
    "            time.sleep(random.uniform(0.3, 0.7))"
   ]
  },
  {
   "cell_type": "code",
   "execution_count": 5,
   "metadata": {},
   "outputs": [],
   "source": [
    "def login(driver, email, password):\n",
    "    driver.get(\"https://www.facebook.com/login\")\n",
    "\n",
    "    email_input = WebDriverWait(driver, 10).until(\n",
    "        EC.presence_of_element_located((By.NAME, \"email\"))\n",
    "    )\n",
    "    simulate_human_typing(email_input, email)\n",
    "\n",
    "    password_input = WebDriverWait(driver, 10).until(\n",
    "        EC.presence_of_element_located((By.NAME, \"pass\"))\n",
    "    )\n",
    "    simulate_human_typing(password_input, password)\n",
    "\n",
    "    login_button = driver.find_element(By.XPATH, \"//button[@type='submit']\")\n",
    "    ActionChains(driver)\\\n",
    "        .move_to_element(login_button)\\\n",
    "        .pause(random.uniform(0.2, 0.4))\\\n",
    "        .click()\\\n",
    "        .perform()\n",
    "\n",
    "    time.sleep(15)"
   ]
  },
  {
   "cell_type": "code",
   "execution_count": 6,
   "metadata": {},
   "outputs": [],
   "source": [
    "def navigate_to_profile(driver, target):\n",
    "    driver.get(target)\n",
    "    time.sleep(4)"
   ]
  },
  {
   "cell_type": "code",
   "execution_count": 7,
   "metadata": {},
   "outputs": [],
   "source": [
    "def extract_posts_with_bs(driver):\n",
    "    page_source = driver.page_source\n",
    "    soup = BeautifulSoup(page_source, \"html.parser\")\n",
    "    links_data = []\n",
    "    seen_links = set()\n",
    "\n",
    "    links = soup.find_all(\"div\", {\"class\": \"x1n2onr6 x1ja2u2z\"})\n",
    "\n",
    "    for link in links:\n",
    "        try:\n",
    "            link_post = link.select_one(\"div.xu06os2.x1ok221b > span > div > span > span > span > a\")\n",
    "            link = link_post.get('href') if link_post else None\n",
    "\n",
    "            if link not in seen_links:\n",
    "                links_data.append(link)\n",
    "                seen_links.add(link)\n",
    "                \n",
    "        except Exception as e:\n",
    "            print(\"Error extracting link data:\", e)"
   ]
  },
  {
   "cell_type": "code",
   "execution_count": null,
   "metadata": {},
   "outputs": [],
   "source": [
    "def remove_duplicates():\n",
    "    "
   ]
  },
  {
   "cell_type": "code",
   "execution_count": 9,
   "metadata": {},
   "outputs": [],
   "source": [
    "def slow_scroll(driver, step=500):\n",
    "    driver.execute_script(f\"window.scrollBy(0, {step});\")\n",
    "    time.sleep(2)"
   ]
  },
  {
   "cell_type": "code",
   "execution_count": 10,
   "metadata": {},
   "outputs": [],
   "source": [
    "def take_link(driver, max_links):\n",
    "    all_links = []\n",
    "\n",
    "    while len(all_links) < max_links:\n",
    "        links = extract_posts_with_bs(driver)\n",
    "        all_links.extend(links)\n",
    "        print(f\"Extracted {len(all_links)} unique so far.\")\n",
    "        slow_scroll(driver, step=500)\n",
    "\n",
    "        if len(all_links) >= max_links:\n",
    "            break\n",
    "\n",
    "    return all_links[:max_links]"
   ]
  },
  {
   "cell_type": "code",
   "execution_count": null,
   "metadata": {},
   "outputs": [],
   "source": [
    "def visit_links():\n",
    "    "
   ]
  },
  {
   "cell_type": "code",
   "execution_count": null,
   "metadata": {},
   "outputs": [],
   "source": [
    "def save_mongo():\n",
    "    "
   ]
  },
  {
   "cell_type": "code",
   "execution_count": 13,
   "metadata": {},
   "outputs": [],
   "source": [
    "def close(driver):\n",
    "    if driver:\n",
    "        driver.quit()"
   ]
  },
  {
   "cell_type": "code",
   "execution_count": null,
   "metadata": {},
   "outputs": [
    {
     "ename": "TypeError",
     "evalue": "'NoneType' object is not iterable",
     "output_type": "error",
     "traceback": [
      "\u001b[1;31m---------------------------------------------------------------------------\u001b[0m",
      "\u001b[1;31mTypeError\u001b[0m                                 Traceback (most recent call last)",
      "Cell \u001b[1;32mIn[14], line 8\u001b[0m\n\u001b[0;32m      4\u001b[0m login(driver, email, password)\n\u001b[0;32m      6\u001b[0m navigate_to_profile(driver, target)\n\u001b[1;32m----> 8\u001b[0m posts_links \u001b[38;5;241m=\u001b[39m \u001b[43mtake_link\u001b[49m\u001b[43m(\u001b[49m\u001b[43mdriver\u001b[49m\u001b[43m,\u001b[49m\u001b[43m \u001b[49m\u001b[43mmax_links\u001b[49m\u001b[38;5;241;43m=\u001b[39;49m\u001b[38;5;241;43m10\u001b[39;49m\u001b[43m)\u001b[49m\n\u001b[0;32m     10\u001b[0m \u001b[38;5;28;01mfor\u001b[39;00m link \u001b[38;5;129;01min\u001b[39;00m posts_links:\n\u001b[0;32m     11\u001b[0m     \u001b[38;5;28mprint\u001b[39m(link)\n",
      "Cell \u001b[1;32mIn[10], line 6\u001b[0m, in \u001b[0;36mtake_link\u001b[1;34m(driver, max_links)\u001b[0m\n\u001b[0;32m      4\u001b[0m \u001b[38;5;28;01mwhile\u001b[39;00m \u001b[38;5;28mlen\u001b[39m(all_links) \u001b[38;5;241m<\u001b[39m max_links:\n\u001b[0;32m      5\u001b[0m     links \u001b[38;5;241m=\u001b[39m extract_posts_with_bs(driver)\n\u001b[1;32m----> 6\u001b[0m     \u001b[43mall_links\u001b[49m\u001b[38;5;241;43m.\u001b[39;49m\u001b[43mextend\u001b[49m\u001b[43m(\u001b[49m\u001b[43mlinks\u001b[49m\u001b[43m)\u001b[49m\n\u001b[0;32m      7\u001b[0m     \u001b[38;5;28mprint\u001b[39m(\u001b[38;5;124mf\u001b[39m\u001b[38;5;124m\"\u001b[39m\u001b[38;5;124mExtracted \u001b[39m\u001b[38;5;132;01m{\u001b[39;00m\u001b[38;5;28mlen\u001b[39m(all_links)\u001b[38;5;132;01m}\u001b[39;00m\u001b[38;5;124m unique so far.\u001b[39m\u001b[38;5;124m\"\u001b[39m)\n\u001b[0;32m      8\u001b[0m     slow_scroll(driver, step\u001b[38;5;241m=\u001b[39m\u001b[38;5;241m500\u001b[39m)\n",
      "\u001b[1;31mTypeError\u001b[0m: 'NoneType' object is not iterable"
     ]
    }
   ],
   "source": [
    "if __name__ == \"__main__\":\n",
    "    try:\n",
    "        driver = initialize_driver(driver)\n",
    "        login(driver, email, password)\n",
    "\n",
    "        navigate_to_profile(driver, target)\n",
    "\n",
    "        posts_links = take_link(driver, max_links=10)\n",
    "\n",
    "        for link in posts_links:\n",
    "            print(link)\n",
    "\n",
    "        visit_links(driver, posts_links)\n",
    "        \n",
    "        save_mongo('facebook_comment_usernames.csv')\n",
    "        \n",
    "        time.sleep(2)\n",
    "    \n",
    "    finally:\n",
    "        close(driver)"
   ]
  }
 ],
 "metadata": {
  "kernelspec": {
   "display_name": "Python 3",
   "language": "python",
   "name": "python3"
  },
  "language_info": {
   "codemirror_mode": {
    "name": "ipython",
    "version": 3
   },
   "file_extension": ".py",
   "mimetype": "text/x-python",
   "name": "python",
   "nbconvert_exporter": "python",
   "pygments_lexer": "ipython3",
   "version": "3.10.0"
  }
 },
 "nbformat": 4,
 "nbformat_minor": 2
}
