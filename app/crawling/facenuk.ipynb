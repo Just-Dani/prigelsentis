{
 "cells": [
  {
   "cell_type": "code",
   "execution_count": 1,
   "metadata": {},
   "outputs": [],
   "source": [
    "import os\n",
    "import csv\n",
    "import time\n",
    "import random\n",
    "from pymongo import MongoClient\n",
    "from selenium import webdriver\n",
    "from selenium.webdriver.common.keys import Keys\n",
    "from selenium.webdriver.support import expected_conditions as EC\n",
    "from selenium.webdriver.common.by import By\n",
    "from selenium.webdriver.support.wait import WebDriverWait\n",
    "from webdriver_manager.chrome import ChromeDriverManager\n",
    "from selenium.webdriver.chrome.service import Service as ChromeService\n",
    "from selenium.webdriver.chrome.options import Options\n",
    "from selenium.common.exceptions import StaleElementReferenceException\n",
    "import schedule\n",
    "from datetime import datetime\n",
    "from selenium.webdriver.common.action_chains import ActionChains"
   ]
  },
  {
   "cell_type": "code",
   "execution_count": 2,
   "metadata": {},
   "outputs": [],
   "source": [
    "def openselenium():\n",
    "    driver = Options()\n",
    "    driver.add_argument(\"--ignore-certificate-errors\")\n",
    "    driver.add_argument(\"user-agent=Mozilla/5.0 (Windows NT 10.0; Win64; x64) AppleWebKit/537.36 (KHTML, like Gecko) Chrome/110.0.0.0 Safari/537.36\")\n",
    "    driver.add_experimental_option(\"detach\", True)\n",
    "    driver.add_argument(\"--start-maximized\")\n",
    "    driver = webdriver.Chrome(service=ChromeService(ChromeDriverManager().install()), options=driver)\n",
    "    driver.get(\"https://web.facebook.com/\")\n",
    "    return driver"
   ]
  },
  {
   "cell_type": "code",
   "execution_count": 3,
   "metadata": {},
   "outputs": [],
   "source": [
    "def human_like_typing(element, text):\n",
    "    for character in text:\n",
    "        element.send_keys(character)\n",
    "        time.sleep(random.uniform(0.1, 0.6))"
   ]
  },
  {
   "cell_type": "code",
   "execution_count": 4,
   "metadata": {},
   "outputs": [],
   "source": [
    "def login(driver, username_str, password_str):\n",
    "    username = WebDriverWait(driver, 10).until(EC.element_to_be_clickable((By.NAME, \"email\")))\n",
    "    password = WebDriverWait(driver, 10).until(EC.element_to_be_clickable((By.NAME, \"pass\")))\n",
    "\n",
    "    username.clear()\n",
    "    password.clear()\n",
    "    human_like_typing(username, username_str)\n",
    "    human_like_typing(password, password_str)\n",
    "\n",
    "    driver.find_element(By.CSS_SELECTOR, \"button[type='submit']\").click()\n",
    "    time.sleep(5)"
   ]
  },
  {
   "cell_type": "code",
   "execution_count": 6,
   "metadata": {},
   "outputs": [],
   "source": [
    "def search(driver, keyword):\n",
    "    search_box = WebDriverWait(driver, 10).until(EC.presence_of_element_located((By.XPATH, \"//span[text()='Search']\")))\n",
    "    ActionChains(driver).move_to_element(search_box).click().perform()\n",
    "    time.sleep(1)\n",
    "    searchbox = WebDriverWait(driver, 10).until(EC.element_to_be_clickable((By.XPATH, \"//input[@placeholder='Search']\")))\n",
    "    searchbox.clear()\n",
    "    searchbox.send_keys(keyword)"
   ]
  },
  {
   "cell_type": "code",
   "execution_count": 8,
   "metadata": {},
   "outputs": [
    {
     "ename": "TimeoutException",
     "evalue": "Message: \nStacktrace:\n\tGetHandleVerifier [0x005AC7F3+24435]\n\t(No symbol) [0x00532074]\n\t(No symbol) [0x004006E3]\n\t(No symbol) [0x00448B39]\n\t(No symbol) [0x00448E8B]\n\t(No symbol) [0x00491AC2]\n\t(No symbol) [0x0046D804]\n\t(No symbol) [0x0048F20A]\n\t(No symbol) [0x0046D5B6]\n\t(No symbol) [0x0043C54F]\n\t(No symbol) [0x0043D894]\n\tGetHandleVerifier [0x008B70A3+3213347]\n\tGetHandleVerifier [0x008CB0C9+3295305]\n\tGetHandleVerifier [0x008C558C+3271948]\n\tGetHandleVerifier [0x00647360+658144]\n\t(No symbol) [0x0053B27D]\n\t(No symbol) [0x00538208]\n\t(No symbol) [0x005383A9]\n\t(No symbol) [0x0052AAC0]\n\tBaseThreadInitThunk [0x76C15D49+25]\n\tRtlInitializeExceptionChain [0x77BDCE3B+107]\n\tRtlGetAppContainerNamedObjectPath [0x77BDCDC1+561]\n",
     "output_type": "error",
     "traceback": [
      "\u001b[1;31m---------------------------------------------------------------------------\u001b[0m",
      "\u001b[1;31mTimeoutException\u001b[0m                          Traceback (most recent call last)",
      "Cell \u001b[1;32mIn[8], line 3\u001b[0m\n\u001b[0;32m      1\u001b[0m driver \u001b[38;5;241m=\u001b[39m openselenium()\n\u001b[0;32m      2\u001b[0m login(driver, \u001b[38;5;124m\"\u001b[39m\u001b[38;5;124mjohnwick67319@gmail.com\u001b[39m\u001b[38;5;124m\"\u001b[39m, \u001b[38;5;124m\"\u001b[39m\u001b[38;5;124mherofavorit123\u001b[39m\u001b[38;5;124m\"\u001b[39m)\n\u001b[1;32m----> 3\u001b[0m \u001b[43msearch\u001b[49m\u001b[43m(\u001b[49m\u001b[43mdriver\u001b[49m\u001b[43m,\u001b[49m\u001b[43m \u001b[49m\u001b[38;5;124;43m\"\u001b[39;49m\u001b[38;5;124;43munnesshitpost\u001b[39;49m\u001b[38;5;124;43m\"\u001b[39;49m\u001b[43m)\u001b[49m\n",
      "Cell \u001b[1;32mIn[6], line 2\u001b[0m, in \u001b[0;36msearch\u001b[1;34m(driver, keyword)\u001b[0m\n\u001b[0;32m      1\u001b[0m \u001b[38;5;28;01mdef\u001b[39;00m \u001b[38;5;21msearch\u001b[39m(driver, keyword):\n\u001b[1;32m----> 2\u001b[0m     search_box \u001b[38;5;241m=\u001b[39m \u001b[43mWebDriverWait\u001b[49m\u001b[43m(\u001b[49m\u001b[43mdriver\u001b[49m\u001b[43m,\u001b[49m\u001b[43m \u001b[49m\u001b[38;5;241;43m10\u001b[39;49m\u001b[43m)\u001b[49m\u001b[38;5;241;43m.\u001b[39;49m\u001b[43muntil\u001b[49m\u001b[43m(\u001b[49m\u001b[43mEC\u001b[49m\u001b[38;5;241;43m.\u001b[39;49m\u001b[43mpresence_of_element_located\u001b[49m\u001b[43m(\u001b[49m\u001b[43m(\u001b[49m\u001b[43mBy\u001b[49m\u001b[38;5;241;43m.\u001b[39;49m\u001b[43mXPATH\u001b[49m\u001b[43m,\u001b[49m\u001b[43m \u001b[49m\u001b[38;5;124;43m\"\u001b[39;49m\u001b[38;5;124;43m//span[text()=\u001b[39;49m\u001b[38;5;124;43m'\u001b[39;49m\u001b[38;5;124;43mSearch\u001b[39;49m\u001b[38;5;124;43m'\u001b[39;49m\u001b[38;5;124;43m]\u001b[39;49m\u001b[38;5;124;43m\"\u001b[39;49m\u001b[43m)\u001b[49m\u001b[43m)\u001b[49m\u001b[43m)\u001b[49m\n\u001b[0;32m      3\u001b[0m     ActionChains(driver)\u001b[38;5;241m.\u001b[39mmove_to_element(search_box)\u001b[38;5;241m.\u001b[39mclick()\u001b[38;5;241m.\u001b[39mperform()\n\u001b[0;32m      4\u001b[0m     time\u001b[38;5;241m.\u001b[39msleep(\u001b[38;5;241m1\u001b[39m)\n",
      "File \u001b[1;32mc:\\Users\\Ahmad Dani\\AppData\\Local\\Programs\\Python\\Python310\\lib\\site-packages\\selenium\\webdriver\\support\\wait.py:146\u001b[0m, in \u001b[0;36mWebDriverWait.until\u001b[1;34m(self, method, message)\u001b[0m\n\u001b[0;32m    144\u001b[0m         \u001b[38;5;28;01mbreak\u001b[39;00m\n\u001b[0;32m    145\u001b[0m     time\u001b[38;5;241m.\u001b[39msleep(\u001b[38;5;28mself\u001b[39m\u001b[38;5;241m.\u001b[39m_poll)\n\u001b[1;32m--> 146\u001b[0m \u001b[38;5;28;01mraise\u001b[39;00m TimeoutException(message, screen, stacktrace)\n",
      "\u001b[1;31mTimeoutException\u001b[0m: Message: \nStacktrace:\n\tGetHandleVerifier [0x005AC7F3+24435]\n\t(No symbol) [0x00532074]\n\t(No symbol) [0x004006E3]\n\t(No symbol) [0x00448B39]\n\t(No symbol) [0x00448E8B]\n\t(No symbol) [0x00491AC2]\n\t(No symbol) [0x0046D804]\n\t(No symbol) [0x0048F20A]\n\t(No symbol) [0x0046D5B6]\n\t(No symbol) [0x0043C54F]\n\t(No symbol) [0x0043D894]\n\tGetHandleVerifier [0x008B70A3+3213347]\n\tGetHandleVerifier [0x008CB0C9+3295305]\n\tGetHandleVerifier [0x008C558C+3271948]\n\tGetHandleVerifier [0x00647360+658144]\n\t(No symbol) [0x0053B27D]\n\t(No symbol) [0x00538208]\n\t(No symbol) [0x005383A9]\n\t(No symbol) [0x0052AAC0]\n\tBaseThreadInitThunk [0x76C15D49+25]\n\tRtlInitializeExceptionChain [0x77BDCE3B+107]\n\tRtlGetAppContainerNamedObjectPath [0x77BDCDC1+561]\n"
     ]
    }
   ],
   "source": [
    "driver = openselenium()\n",
    "login(driver, \"johnwick67319@gmail.com\", \"herofavorit123\")\n",
    "search(driver, \"unnesshitpost\")"
   ]
  }
 ],
 "metadata": {
  "kernelspec": {
   "display_name": "Python 3",
   "language": "python",
   "name": "python3"
  },
  "language_info": {
   "codemirror_mode": {
    "name": "ipython",
    "version": 3
   },
   "file_extension": ".py",
   "mimetype": "text/x-python",
   "name": "python",
   "nbconvert_exporter": "python",
   "pygments_lexer": "ipython3",
   "version": "3.10.0"
  }
 },
 "nbformat": 4,
 "nbformat_minor": 2
}
