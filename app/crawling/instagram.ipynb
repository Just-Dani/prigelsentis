{
 "cells": [
  {
   "cell_type": "markdown",
   "metadata": {},
   "source": [
    "*IMPORT LIBRARY*"
   ]
  },
  {
   "cell_type": "code",
   "execution_count": null,
   "metadata": {},
   "outputs": [],
   "source": [
    "%pip install selenium"
   ]
  },
  {
   "cell_type": "code",
   "execution_count": null,
   "metadata": {},
   "outputs": [],
   "source": [
    "%from selenium import webdriver\n",
    "%from selenium.webdriver.common.keys import Keys\n",
    "%from selenium.webdriver.support import expected_conditions as EC\n",
    "%from selenium.webdriver.common.by import By\n",
    "%from selenium.webdriver.support.wait import WebDriverWait\n",
    "import os\n",
    "%from webdriver_manager.chrome import ChromeDriverManager\n",
    "%from selenium.webdriver.chrome.service import Service as ChromeService\n",
    "%from selenium.webdriver.chrome.options import Options"
   ]
  },
  {
   "cell_type": "markdown",
   "metadata": {},
   "source": [
    "*Buka Chrome dan langsung masuk ke instagram*"
   ]
  },
  {
   "cell_type": "code",
   "execution_count": null,
   "metadata": {},
   "outputs": [],
   "source": [
    "driver = Options()\n",
    "driver.add_argument(\"--ignore-certificate-errors\")\n",
    "driver.add_argument(\"user-agent=Mozilla/5.0 (Windows NT 10.0; Win64; x64) AppleWebKit/537.36 (KHTML, like Gecko) Chrome/110.0.0.0 Safari/537.36\")\n",
    "driver.add_experimental_option(\"detach\", True)\n",
    "driver.add_argument(\"--start-maximized\")\n",
    "driver = webdriver.Chrome(service=ChromeService(ChromeDriverManager().install()), options=driver)\n",
    "driver.get(\"https://www.instagram.com/\")"
   ]
  },
  {
   "cell_type": "markdown",
   "metadata": {},
   "source": [
    "*INPUT USERNAME DAN PASSWORD*"
   ]
  },
  {
   "cell_type": "code",
   "execution_count": null,
   "metadata": {},
   "outputs": [],
   "source": [
    "# Wait for the username field to be clickable\n",
    "username = WebDriverWait(driver, 10).until(\n",
    "EC.element_to_be_clickable((By.NAME, \"username\"))\n",
    ")\n",
    "username.clear()\n",
    "username.send_keys(\"sentis2872\")\n",
    "\n",
    "# Wait for the password field to be clickable\n",
    "password = WebDriverWait(driver, 10).until(\n",
    "EC.element_to_be_clickable((By.NAME, \"password\"))\n",
    ")\n",
    "password.clear()\n",
    "password.send_keys(\"SENTISprigel\")\n",
    "\n",
    "# Click the login button\n",
    "login_button = WebDriverWait(driver, 10).until(\n",
    "EC.element_to_be_clickable((By.XPATH, \"//button[@type='submit']\"))\n",
    ")\n",
    "login_button.click()\n"
   ]
  },
  {
   "cell_type": "markdown",
   "metadata": {},
   "source": [
    "*KLIK BUTTON LOGIN*"
   ]
  },
  {
   "cell_type": "code",
   "execution_count": null,
   "metadata": {},
   "outputs": [],
   "source": [
    "log_in = WebDriverWait(driver, 10).until(EC.element_to_be_clickable((By.CSS_SELECTOR, \"button[type='submit']\"))).click()"
   ]
  },
  {
   "cell_type": "markdown",
   "metadata": {},
   "source": [
    "*KLIK BUTTON NOT NOW*"
   ]
  },
  {
   "cell_type": "code",
   "execution_count": null,
   "metadata": {},
   "outputs": [],
   "source": [
    "not_now_button = WebDriverWait(driver, 10).until(EC.element_to_be_clickable((By.XPATH, \"//div[text()='Not Now']\")))\n",
    "not_now_button.click()"
   ]
  },
  {
   "cell_type": "markdown",
   "metadata": {},
   "source": [
    "*KLIK BUTTON NOT NOW*"
   ]
  },
  {
   "cell_type": "code",
   "execution_count": null,
   "metadata": {},
   "outputs": [],
   "source": [
    "not_now2 = WebDriverWait(driver, 10).until(EC.element_to_be_clickable((By.XPATH, \"//button[contains(text(), 'Not Now')]\"))).click()"
   ]
  },
  {
   "cell_type": "markdown",
   "metadata": {},
   "source": [
    "*MENCARI SEARCHBOX*"
   ]
  },
  {
   "cell_type": "code",
   "execution_count": null,
   "metadata": {},
   "outputs": [],
   "source": [
    "element = WebDriverWait(driver, 10).until(EC.presence_of_element_located((By.XPATH, \"//span[text()='Search']\"))).click()"
   ]
  },
  {
   "cell_type": "markdown",
   "metadata": {},
   "source": [
    "*KETIK #UNNES DI SEARCHBOX*"
   ]
  },
  {
   "cell_type": "code",
   "execution_count": null,
   "metadata": {},
   "outputs": [],
   "source": [
    "searchbox = WebDriverWait(driver, 10).until(EC.element_to_be_clickable((By.XPATH, \"//input[@placeholder='Search']\")))\n",
    "searchbox.clear()\n",
    "keyword = \"pesanunnes\"\n",
    "searchbox.send_keys(keyword)"
   ]
  },
  {
   "cell_type": "markdown",
   "metadata": {},
   "source": [
    "*KLIK #UNNES DI PENCARIAN PERTAMA*"
   ]
  },
  {
   "cell_type": "code",
   "execution_count": null,
   "metadata": {},
   "outputs": [],
   "source": [
    "element = driver.find_element(By.XPATH, \"//span[contains(text(), 'pesanunnes')]\").click()"
   ]
  },
  {
   "cell_type": "markdown",
   "metadata": {},
   "source": [
    "*DAPATIN LINK INSTAGRAMNYA*"
   ]
  },
  {
   "cell_type": "code",
   "execution_count": null,
   "metadata": {},
   "outputs": [],
   "source": [
    "#target all the link elements on the page\n",
    "anchors = driver.find_elements('tag name', 'a')\n",
    "anchors = [a.get_attribute('href') for a in anchors]\n",
    "#narrow down all links to image links only\n",
    "anchors = [a for a in anchors if str(a).startswith(\"https://www.instagram.com/p/\")][:5]\n",
    "\n",
    "print('Found ' + str(len(anchors)) + ' links to images')\n",
    "anchors"
   ]
  },
  {
   "cell_type": "markdown",
   "metadata": {},
   "source": [
    "*SCROLL DOWN, EKSTRAK CAPTION, DAN SAVE DI CSV*"
   ]
  },
  {
   "cell_type": "code",
   "execution_count": null,
   "metadata": {},
   "outputs": [],
   "source": [
    "comments = WebDriverWait(driver, 10).until(\n",
    "                EC.presence_of_all_elements_located((By.CSS_SELECTOR, \"span.x1lliihq.x1plvlek.xryxfnj.x1n2onr6.x193iq5w.xeuugli.x1fj9vlw.x13faqbe.x1vvkbs.x1s928wv.xhkezso.x1gmr53x.x1cpjm7i.x1fgarty.x1943h6x.x1i0vuye.xvs91rp.xo1l8bm.x5n08af.x10wh9bi.x1wdrske.x8viiok.x18hxmgj\"))\n",
    "            )\n",
    "for comment in comments:\n",
    "                # Periksa apakah elemen span memiliki anak elemen <a>\n",
    "    if not comment.find_elements(By.TAG_NAME, 'a'):\n",
    "        comment_text = comment.text\n",
    "        print(f\"Banyaknya: {len(comments)}\")\n",
    "        print(f\"Comment: {comment_text}\")"
   ]
  },
  {
   "cell_type": "code",
   "execution_count": null,
   "metadata": {},
   "outputs": [],
   "source": [
    "usernames = WebDriverWait(driver, 10).until(EC.presence_of_all_elements_located((By.CSS_SELECTOR, \"span._ap3a._aaco._aacw._aacx._aad7._aade\")))\n",
    "for username in usernames:\n",
    "    username_text = username.text\n",
    "    if 'pesanunnes' not in username_text:\n",
    "        print(f\"Username: @{username_text}\")"
   ]
  },
  {
   "cell_type": "code",
   "execution_count": null,
   "metadata": {},
   "outputs": [],
   "source": [
    "import csv\n",
    "import time"
   ]
  },
  {
   "cell_type": "markdown",
   "metadata": {},
   "source": [
    "SCROLL DOWN"
   ]
  },
  {
   "cell_type": "code",
   "execution_count": null,
   "metadata": {},
   "outputs": [],
   "source": [
    "scrollable_div = WebDriverWait(driver, 10).until(\n",
    "                EC.presence_of_element_located((By.CSS_SELECTOR, \"div.x5yr21d.xw2csxc.x1odjw0f.x1n2onr6\"))\n",
    "            )\n",
    "driver.execute_script(\"arguments[0].scrollTop = arguments[0].scrollHeight;\", scrollable_div)"
   ]
  },
  {
   "cell_type": "code",
   "execution_count": null,
   "metadata": {},
   "outputs": [],
   "source": [
    "with open('comments_usernames.csv', 'w', newline='', encoding='utf-8') as file:\n",
    "    writer = csv.writer(file)\n",
    "    writer.writerow(['URL', 'Username', 'Comment'])\n",
    "\n",
    "    # Loop melalui setiap URL postingan (hanya 3)\n",
    "    for link in anchors:\n",
    "        # Buka URL postingan\n",
    "        driver.get(link)\n",
    "        print(f\"Visiting {link}\")\n",
    "        time.sleep(5)  # Tambahkan waktu tunggu untuk memastikan halaman telah dimuat\n",
    "\n",
    "        try:\n",
    "            # Temukan elemen yang dapat digulir\n",
    "            scrollable_div = WebDriverWait(driver, 10).until(\n",
    "                EC.presence_of_element_located((By.CSS_SELECTOR, \"div.x5yr21d.xw2csxc.x1odjw0f.x1n2onr6\"))\n",
    "            )\n",
    "            \n",
    "            last_height = driver.execute_script(\"return arguments[0].scrollHeight\", scrollable_div)\n",
    "            new_comments_loaded = True\n",
    "            scroll_attempts = 0\n",
    "\n",
    "            while new_comments_loaded and scroll_attempts < 10:  # Batasi maksimal 10 kali scroll\n",
    "                driver.execute_script(\"arguments[0].scrollTop = arguments[0].scrollHeight\", scrollable_div)\n",
    "                time.sleep(5)  # Tambahkan waktu tunggu untuk memuat komentar\n",
    "                new_height = driver.execute_script(\"return arguments[0].scrollHeight\", scrollable_div)\n",
    "                if new_height == last_height:\n",
    "                    new_comments_loaded = False\n",
    "                else:\n",
    "                    last_height = new_height\n",
    "                    scroll_attempts += 1\n",
    "\n",
    "            # Tambahkan waktu tunggu setelah semua scroll selesai untuk memastikan komentar dimuat\n",
    "            time.sleep(5)\n",
    "\n",
    "            # Scroll kembali ke atas\n",
    "            driver.execute_script(\"arguments[0].scrollTop = 0\", scrollable_div)\n",
    "            time.sleep(2)  # Waktu tunggu setelah scroll ke atas\n",
    "            \n",
    "            # Tunggu hingga elemen komentar muncul\n",
    "            comments = WebDriverWait(driver, 20).until(\n",
    "                EC.presence_of_all_elements_located((By.CSS_SELECTOR, \"span.x1lliihq.x1plvlek.xryxfnj.x1n2onr6.x193iq5w.xeuugli.x1fj9vlw.x13faqbe.x1vvkbs.x1s928wv.xhkezso.x1gmr53x.x1cpjm7i.x1fgarty.x1943h6x.x1i0vuye.xvs91rp.xo1l8bm.x5n08af.x10wh9bi.x1wdrske.x8viiok.x18hxmgj\"))\n",
    "            )\n",
    "            usernames = WebDriverWait(driver, 20).until(EC.presence_of_all_elements_located((By.CSS_SELECTOR, \"span._ap3a._aaco._aacw._aacx._aad7._aade\")))\n",
    "\n",
    "            for username, comment in zip(usernames, comments):\n",
    "                # Periksa apakah elemen span memiliki anak elemen <a>\n",
    "                if not comment.find_elements(By.TAG_NAME, 'a'):\n",
    "                    username_text = username.text\n",
    "                    comment_text = comment.text\n",
    "                    print(f\"Username: @{username_text}, Comment: {comment_text}\")\n",
    "\n",
    "                    # Tulis URL postingan, username, dan komentar ke dalam file CSV\n",
    "                    writer.writerow([link, f\"@{username_text}\", comment_text])\n",
    "                    print(f\"Wrote to CSV: {link}, @{username_text}, {comment_text}\")\n",
    "\n",
    "        except Exception as e:\n",
    "            # Jika terjadi kesalahan\n",
    "            print(\"Error:\", e)\n",
    "            print(\"Could not retrieve data for:\", link)\n"
   ]
  },
  {
   "cell_type": "code",
   "execution_count": null,
   "metadata": {},
   "outputs": [],
   "source": [
    "with open('comments_usernames.csv', 'w', newline='', encoding='utf-8') as file:\n",
    "    writer = csv.writer(file)\n",
    "    writer.writerow(['URL', 'Username', 'Comment'])\n",
    "\n",
    "    # Loop melalui setiap URL postingan (hanya 3)\n",
    "    for link in anchors:\n",
    "        # Buka URL postingan\n",
    "        driver.get(link)  \n",
    "        try:\n",
    "            comments = WebDriverWait(driver, 10).until(\n",
    "                EC.presence_of_all_elements_located((By.CSS_SELECTOR, \"span.x1lliihq.x1plvlek.xryxfnj.x1n2onr6.x193iq5w.xeuugli.x1fj9vlw.x13faqbe.x1vvkbs.x1s928wv.xhkezso.x1gmr53x.x1cpjm7i.x1fgarty.x1943h6x.x1i0vuye.xvs91rp.xo1l8bm.x5n08af.x10wh9bi.x1wdrske.x8viiok.x18hxmgj\"))\n",
    "            )\n",
    "            usernames = WebDriverWait(driver, 10).until(EC.presence_of_all_elements_located((By.CSS_SELECTOR, \"span._ap3a._aaco._aacw._aacx._aad7._aade\")))\n",
    "            # for username in usernames:\n",
    "            #     username_text = username.text\n",
    "            #     if 'pesanunnes' not in username_text:\n",
    "            #         print(f\"Username: @{username_text}\")\n",
    "            \n",
    "            for username, comment in zip(usernames, comments):\n",
    "                # Periksa apakah elemen span memiliki anak elemen <a>\n",
    "                if not comment.find_elements(By.TAG_NAME, 'a'):\n",
    "                    username_text = username.text\n",
    "                    comment_text = comment.text\n",
    "                    print(f\"Username: @{username_text}, Comment: {comment_text}\")\n",
    "                    writer.writerow([link, f\"@{username_text}\", comment_text])\n",
    "                    print(f\"Wrote to CSV: {link}, @{username_text}, {comment_text}\")\n",
    "            \n",
    "            # Tulis URL postingan dan caption ke dalam file CSV\n",
    "            \n",
    "\n",
    "        except Exception as e:\n",
    "            # Jika terjadi kesalahan\n",
    "            print(\"Error:\", e)\n",
    "            print(\"Could not retrieve data for:\", link)"
   ]
  },
  {
   "cell_type": "markdown",
   "metadata": {},
   "source": [
    "*INI CAPTION*"
   ]
  },
  {
   "cell_type": "code",
   "execution_count": null,
   "metadata": {},
   "outputs": [],
   "source": [
    "# Buka file CSV untuk menulis\n",
    "with open('captions1.csv', 'w', newline='', encoding='utf-8') as file:\n",
    "    writer = csv.writer(file, delimiter=';')\n",
    "    writer.writerow(['Post URL', 'Username', 'Comment'])\n",
    "\n",
    "    # Loop melalui setiap URL postingan\n",
    "    for link in anchors:\n",
    "        # Buka URL postingan\n",
    "        driver.get(link)\n",
    "        \n",
    "        try:\n",
    "            # Tunggu hingga elemen span muncul\n",
    "            span_element = WebDriverWait(driver, 10).until(EC.presence_of_element_located((By.CSS_SELECTOR, \"span.x193iq5w.xeuugli.x1fj9vlw.x13faqbe.x1vvkbs.xt0psk2.x1i0vuye.xvs91rp.xo1l8bm.x5n08af.x10wh9bi.x1wdrske.x8viiok.x18hxmgj\")))\n",
    "            \n",
    "            # Ambil teks dari elemen span\n",
    "            caption_text = span_element.text\n",
    "            \n",
    "            # Tulis URL postingan dan caption ke dalam file CSV\n",
    "            writer.writerow([link, caption_text])\n",
    "        \n",
    "        except Exception as e:\n",
    "            # Jika tidak ada elemen span atau terjadi kesalahan lainnya\n",
    "            print(\"Error:\", e)\n",
    "            print(\"No caption found for:\", link)"
   ]
  }
 ],
 "metadata": {
  "kernelspec": {
   "display_name": "Python 3",
   "language": "python",
   "name": "python3"
  },
  "language_info": {
   "codemirror_mode": {
    "name": "ipython",
    "version": 3
   },
   "file_extension": ".py",
   "mimetype": "text/x-python",
   "name": "python",
   "nbconvert_exporter": "python",
   "pygments_lexer": "ipython3",
   "version": "3.10.0"
  }
 },
 "nbformat": 4,
 "nbformat_minor": 2
}
